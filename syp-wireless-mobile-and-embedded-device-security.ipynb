{
 "cells": [
  {
   "cell_type": "markdown",
   "id": "d4ee9e4b",
   "metadata": {},
   "source": [
    "***\n",
    "< [Home](https://github.com/SeanOhAileasa) | [README](https://github.com/SeanOhAileasa/syp-wireless-mobile-and-embedded-device-security/blob/main/README.md) >\n",
    "\n",
    "## CompTIA Security+ - Course Material 2022\n",
    "###### Topic: ``Wireless, Mobile and Embedded Device Security``\n",
    "***"
   ]
  },
  {
   "cell_type": "markdown",
   "id": "b82b07fb",
   "metadata": {},
   "source": [
    "Course material for the ``CompTIA Security+`` module of the ``ICT Associate Apprenticeship (Cybersecurity)`` programme."
   ]
  },
  {
   "cell_type": "markdown",
   "id": "e7228f57",
   "metadata": {},
   "source": [
    "<a id=\"top\"></a>\n",
    "***\n",
    "## Table of Contents\n",
    "***"
   ]
  },
  {
   "cell_type": "markdown",
   "id": "c2bb5e7b",
   "metadata": {},
   "source": [
    "### [Wireless, Mobile and Embedded Device Security](#WirelessMobileandEmbeddedDeviceSecurity) <br/><br/>\n",
    "<hr width=50%;>"
   ]
  },
  {
   "cell_type": "markdown",
   "id": "e1a11e40",
   "metadata": {},
   "source": [
    "### [Wireless Cryptographic and Authentication Protocols](#WirelessCryptographicandAuthenticationProtocols) <br/><br/>\n",
    "<hr width=50%;>"
   ]
  },
  {
   "cell_type": "markdown",
   "id": "5564ff17",
   "metadata": {},
   "source": [
    "### [Wireless Security Methods](#WirelessSecurityMethods) <br/><br/>\n",
    "<hr width=50%;>"
   ]
  },
  {
   "cell_type": "markdown",
   "id": "8a6b1ee3",
   "metadata": {},
   "source": [
    "### [Wireless Installation Considerations](#WirelessInstallationConsiderations) <br/><br/>\n",
    "<hr width=50%;>"
   ]
  },
  {
   "cell_type": "markdown",
   "id": "aee65e99",
   "metadata": {},
   "source": [
    "### [Mobile Connection Methods and Receivers](#MobileConnectionMethodsandReceivers) <br/><br/>\n",
    "<hr width=50%;>"
   ]
  },
  {
   "cell_type": "markdown",
   "id": "01db2430",
   "metadata": {},
   "source": [
    "### [Mobile Device Types](#MobileDeviceTypes) <br/><br/>\n",
    "<hr width=50%;>"
   ]
  },
  {
   "cell_type": "markdown",
   "id": "44aa1d02",
   "metadata": {},
   "source": [
    "### [Mobile Deployment Models](#MobileDeploymentModels) <br/><br/>\n",
    "<hr width=50%;>"
   ]
  },
  {
   "cell_type": "markdown",
   "id": "60e2767a",
   "metadata": {},
   "source": [
    "### [Mobile Device Management - MDM](#MobileDeviceManagementMDM) <br/><br/>\n",
    "<hr width=50%;>"
   ]
  },
  {
   "cell_type": "markdown",
   "id": "15de6cd3",
   "metadata": {},
   "source": [
    "### [Mobile Enforcement and Monitoring](#MobileEnforcementandMonitoring) <br/><br/>\n",
    "<hr width=50%;>"
   ]
  },
  {
   "cell_type": "markdown",
   "id": "0d89fab7",
   "metadata": {},
   "source": [
    "### [Embedded System Security and Constraints](#EmbeddedSystemSecurityandConstraints) <br/><br/>\n",
    "<hr width=50%;>"
   ]
  },
  {
   "cell_type": "markdown",
   "id": "ee399de4",
   "metadata": {},
   "source": [
    "### [SCADA Security](#SCADASecurity) <br/><br/>\n",
    "<hr width=50%;>"
   ]
  },
  {
   "cell_type": "markdown",
   "id": "0dcf425b",
   "metadata": {},
   "source": [
    "### [Internet of Things - IoT](#InternetofThingsIoT) <br/><br/>\n",
    "<hr width=50%;>"
   ]
  },
  {
   "cell_type": "markdown",
   "id": "2c6919e1",
   "metadata": {},
   "source": [
    "### [Securing Specialized Systems](#SecuringSpecializedSystems) <br/><br/>\n",
    "<hr width=50%;>"
   ]
  },
  {
   "cell_type": "markdown",
   "id": "b9766dad",
   "metadata": {},
   "source": [
    "### [Course Summary](#CourseSummary) <br/><br/>\n",
    "<hr width=50%;>"
   ]
  },
  {
   "cell_type": "markdown",
   "id": "bf2b95e2",
   "metadata": {},
   "source": [
    "***\n",
    "## END"
   ]
  },
  {
   "cell_type": "markdown",
   "id": "34aa6eb5",
   "metadata": {},
   "source": [
    "< [Table of Contents](#top) | [References](#references) >\n",
    "<a id=\"WirelessMobileandEmbeddedDeviceSecurity\"></a>\n",
    "***\n",
    "### Wireless, Mobile and Embedded Device Security\n",
    "***"
   ]
  },
  {
   "cell_type": "markdown",
   "id": "5b4bfdcf",
   "metadata": {},
   "source": [
    "This domain encompasses one of the most rapidly changing and evolving sets of technologies. It also represents one of the most significant changes from the previous Security+ exam. In this CompTIA Security+ SY0-601 course, you'll explore a broad range of communication solutions based on the fundamental aspects of wireless, mobile, and embedded system technology security.\n",
    "\n",
    "You'll learn about a variety of specialized systems and concepts, including wireless cryptographic and authentication protocols, wireless security methods and installation, mobile connection methods and receivers, device types and deployment models, MDM and MAM, mobility enforcement and monitoring, and various embedded and specialized systems.\n",
    "\n",
    "By gaining knowledge in these areas, you will be prepared for a career in the world's most cutting-edge industries. This course can be used in preparation for the CompTIA Security+ SY0-601 certification exam."
   ]
  },
  {
   "cell_type": "markdown",
   "id": "173e78b5",
   "metadata": {},
   "source": [
    "Objectives\n",
    "\n",
    "- discover the key concepts covered in this course <br/><br/>\n",
    "- describe cryptographic and authentication protocols for wireless, like WPA2, WPA3, CCMP, SAE, EAP, PEAP, EAP-FAST, EAP-TLS, and EAP-TTLS <br/><br/>\n",
    "- survey wireless security methods such as PSK vs. enterprise vs. open, WPS, and captive portals <br/><br/>\n",
    "- describe installation considerations, as in site surveys, heat maps, Wi-Fi analysis, channel overlays, and WAP placement <br/><br/>\n",
    "- compare various mobile connection methods and receivers, such as cellular, WiFi, Bluetooth, NFC, infrared, USB, RFID, and GPS <br/><br/>\n",
    "- describe mobile device types, like MicroSD HSM and SEAndroid <br/><br/>\n",
    "- define mobile deployment models, as in BYOD, COPE, CYOD, corporate-owned, and VDI <br/><br/>\n",
    "- describe mobile device management concepts like MDM vs. MAM, content management, remote wipe, geofencing, geolocation, screen locks, push notifications, passwords, pins, and biometrics <br/><br/>\n",
    "- survey mobile enforcement and monitoring concepts, such as third-party app stores, rooting, jailbreaking, sideloading, custom firmware, carrier unlocking, and firmware OTA updates <br/><br/>\n",
    "- describe embedded system security, such as in raspberry pi, FPGA, and Arduino, and constraints such as power, compute, network, crypto, inability to patch, authentication, range, cost, and implied trust <br/><br/>\n",
    "- define SCADA security issues such as facilities, industrial, manufacturing, energy, and logistics <br/><br/>\n",
    "- compare IoT security like sensors, smart devices, facility automation, specialized systems, medical systems, vehicles, aircraft, and smart meters <br/><br/>\n",
    "- describe specialty systems like VoIP, HVAC, drones, AVs, MFP, RTOS, surveillance systems, SoC, 5g, narrow-band, baseband radio, and SIM cards <br/><br/>\n",
    "- summarize the key concepts covered in this course <br/><br/>"
   ]
  },
  {
   "cell_type": "markdown",
   "id": "84b00380",
   "metadata": {},
   "source": [
    "< [Table of Contents](#top) | [References](#references) >\n",
    "<a id=\"WirelessCryptographicandAuthenticationProtocols\"></a>\n",
    "***\n",
    "### Wireless Cryptographic and Authentication Protocols\n",
    "***"
   ]
  },
  {
   "cell_type": "markdown",
   "id": "d82d85d7",
   "metadata": {},
   "source": []
  },
  {
   "cell_type": "markdown",
   "id": "b4da2efe",
   "metadata": {},
   "source": [
    "< [Table of Contents](#top) | [References](#references) >\n",
    "<a id=\"WirelessSecurityMethods\"></a>\n",
    "***\n",
    "### Wireless Security Methods\n",
    "***"
   ]
  },
  {
   "cell_type": "markdown",
   "id": "70f6e846",
   "metadata": {},
   "source": []
  },
  {
   "cell_type": "markdown",
   "id": "7b10c3a2",
   "metadata": {},
   "source": [
    "< [Table of Contents](#top) | [References](#references) >\n",
    "<a id=\"WirelessInstallationConsiderations\"></a>\n",
    "***\n",
    "### Wireless Installation Considerations\n",
    "***"
   ]
  },
  {
   "cell_type": "markdown",
   "id": "2cc18496",
   "metadata": {},
   "source": []
  },
  {
   "cell_type": "markdown",
   "id": "1ce9ff85",
   "metadata": {},
   "source": [
    "< [Table of Contents](#top) | [References](#references) >\n",
    "<a id=\"MobileConnectionMethodsandReceivers\"></a>\n",
    "***\n",
    "### Mobile Connection Methods and Receivers\n",
    "***"
   ]
  },
  {
   "cell_type": "markdown",
   "id": "8bb9c616",
   "metadata": {},
   "source": []
  },
  {
   "cell_type": "markdown",
   "id": "d87809fd",
   "metadata": {},
   "source": [
    "< [Table of Contents](#top) | [References](#references) >\n",
    "<a id=\"MobileDeviceTypes\"></a>\n",
    "***\n",
    "### Mobile Device Types\n",
    "***"
   ]
  },
  {
   "cell_type": "markdown",
   "id": "f0a909b6",
   "metadata": {},
   "source": []
  },
  {
   "cell_type": "markdown",
   "id": "c781a700",
   "metadata": {},
   "source": [
    "< [Table of Contents](#top) | [References](#references) >\n",
    "<a id=\"MobileDeploymentModels\"></a>\n",
    "***\n",
    "### Mobile Deployment Models\n",
    "***"
   ]
  },
  {
   "cell_type": "markdown",
   "id": "cd41c08d",
   "metadata": {},
   "source": []
  },
  {
   "cell_type": "markdown",
   "id": "1256d7bf",
   "metadata": {},
   "source": [
    "< [Table of Contents](#top) | [References](#references) >\n",
    "<a id=\"MobileDeviceManagementMDM\"></a>\n",
    "***\n",
    "### Mobile Device Management - MDM\n",
    "***"
   ]
  },
  {
   "cell_type": "markdown",
   "id": "3ab13be8",
   "metadata": {},
   "source": []
  },
  {
   "cell_type": "markdown",
   "id": "47707114",
   "metadata": {},
   "source": [
    "< [Table of Contents](#top) | [References](#references) >\n",
    "<a id=\"MobileEnforcementandMonitoring\"></a>\n",
    "***\n",
    "### Mobile Enforcement and Monitoring\n",
    "***"
   ]
  },
  {
   "cell_type": "markdown",
   "id": "5c5eb4ce",
   "metadata": {},
   "source": []
  },
  {
   "cell_type": "markdown",
   "id": "9adeceaf",
   "metadata": {},
   "source": [
    "< [Table of Contents](#top) | [References](#references) >\n",
    "<a id=\"EmbeddedSystemSecurityandConstraints\"></a>\n",
    "***\n",
    "### Embedded System Security and Constraints\n",
    "***"
   ]
  },
  {
   "cell_type": "markdown",
   "id": "45d2f914",
   "metadata": {},
   "source": []
  },
  {
   "cell_type": "markdown",
   "id": "fd680b58",
   "metadata": {},
   "source": [
    "< [Table of Contents](#top) | [References](#references) >\n",
    "<a id=\"SCADASecurity\"></a>\n",
    "***\n",
    "### SCADA Security\n",
    "***"
   ]
  },
  {
   "cell_type": "markdown",
   "id": "86a67316",
   "metadata": {},
   "source": []
  },
  {
   "cell_type": "markdown",
   "id": "d438e44b",
   "metadata": {},
   "source": [
    "< [Table of Contents](#top) | [References](#references) >\n",
    "<a id=\"InternetofThingsIoT\"></a>\n",
    "***\n",
    "### Internet of Things - IoT\n",
    "***"
   ]
  },
  {
   "cell_type": "markdown",
   "id": "6779b825",
   "metadata": {},
   "source": []
  },
  {
   "cell_type": "markdown",
   "id": "bd89bb21",
   "metadata": {},
   "source": [
    "< [Table of Contents](#top) | [References](#references) >\n",
    "<a id=\"SecuringSpecializedSystems\"></a>\n",
    "***\n",
    "### Securing Specialized Systems\n",
    "***"
   ]
  },
  {
   "cell_type": "markdown",
   "id": "c9f42d31",
   "metadata": {},
   "source": []
  },
  {
   "cell_type": "markdown",
   "id": "88de3841",
   "metadata": {},
   "source": [
    "< [Table of Contents](#top) | [References](#references) >\n",
    "<a id=\"CourseSummary\"></a>\n",
    "***\n",
    "### Course Summary\n",
    "***"
   ]
  },
  {
   "cell_type": "markdown",
   "id": "d78a1e66",
   "metadata": {},
   "source": []
  },
  {
   "cell_type": "markdown",
   "id": "2cc20932",
   "metadata": {},
   "source": [
    "***\n",
    "## END"
   ]
  },
  {
   "cell_type": "markdown",
   "id": "e0e42d51",
   "metadata": {},
   "source": [
    "< [Table of Contents](#top) >\n",
    "<a id=\"references\"></a>\n",
    "***\n",
    "## References\n",
    "***"
   ]
  },
  {
   "cell_type": "markdown",
   "id": "757bf6de",
   "metadata": {},
   "source": [
    "&nbsp;&nbsp;&nbsp;&nbsp;&nbsp;&nbsp;&nbsp;&nbsp;&nbsp;eCollege, \"Wireless, Mobile and Embedded Device Security,\" [ecollege.ie](https://web.archive.org/web/20220328112908/https://www.ecollege.ie/courses/comptia-security/), n.d.."
   ]
  },
  {
   "cell_type": "markdown",
   "id": "b33c372a",
   "metadata": {},
   "source": [
    "***\n",
    "## END"
   ]
  },
  {
   "cell_type": "markdown",
   "id": "e5961b4d",
   "metadata": {},
   "source": [
    "< [Table of Contents](#top) | [References](#references) >\n",
    "<a id=\"appendix\"></a>\n",
    "***\n",
    "## Appendix\n",
    "***"
   ]
  },
  {
   "cell_type": "markdown",
   "id": "00d82a82",
   "metadata": {},
   "source": [
    "***\n",
    "## END"
   ]
  },
  {
   "cell_type": "code",
   "execution_count": 1,
   "id": "706756a2",
   "metadata": {},
   "outputs": [
    {
     "data": {
      "text/html": [
       "<style>.container { width:100% !important; }</style>"
      ],
      "text/plain": [
       "<IPython.core.display.HTML object>"
      ]
     },
     "metadata": {},
     "output_type": "display_data"
    }
   ],
   "source": [
    "from IPython.core.display import display,HTML\n",
    "display(HTML(\"<style>.container { width:100% !important; }</style>\"))"
   ]
  },
  {
   "cell_type": "markdown",
   "id": "899c1783",
   "metadata": {},
   "source": [
    "# END JUPYTER NOTEBOOK"
   ]
  }
 ],
 "metadata": {
  "kernelspec": {
   "display_name": "Python 3",
   "language": "python",
   "name": "python3"
  },
  "language_info": {
   "codemirror_mode": {
    "name": "ipython",
    "version": 3
   },
   "file_extension": ".py",
   "mimetype": "text/x-python",
   "name": "python",
   "nbconvert_exporter": "python",
   "pygments_lexer": "ipython3",
   "version": "3.8.8"
  }
 },
 "nbformat": 4,
 "nbformat_minor": 5
}
